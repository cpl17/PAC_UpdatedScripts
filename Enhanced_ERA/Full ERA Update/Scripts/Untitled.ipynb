{
 "cells": [
  {
   "cell_type": "code",
   "execution_count": 1,
   "id": "57b24997",
   "metadata": {},
   "outputs": [],
   "source": [
    "import pandas as pd\n",
    "import numpy as np\n",
    "import gspread\n",
    "\n",
    "\n",
    "from  Helpers import get_sheet_data,write_df_to_sheet"
   ]
  },
  {
   "cell_type": "code",
   "execution_count": 2,
   "id": "ea1867fb",
   "metadata": {},
   "outputs": [],
   "source": [
    "era_reduced = get_sheet_data(\"ERAFull\", \"Reduced\").set_index(\"Scientific Name\") #ERA - Only contains to be updated columns\n",
    "era = get_sheet_data(\"ERAFull\", \"ERAFull\").set_index(\"Scientific Name\") #Full Original ERA\n",
    "era_cnp = get_sheet_data(f\"Full_CNP_Database\",\"Copy of ERA\") #Enhanced ERA "
   ]
  },
  {
   "cell_type": "code",
   "execution_count": 7,
   "id": "bffcef8b",
   "metadata": {},
   "outputs": [],
   "source": [
    "for column in era_reduced.columns:\n",
    "    era_reduced[column]= era_reduced[column].apply(lambda x: np.nan if x == \"\" else x)"
   ]
  },
  {
   "cell_type": "code",
   "execution_count": 8,
   "id": "fd6509ac",
   "metadata": {},
   "outputs": [
    {
     "data": {
      "text/plain": [
       "Flower Color        3413\n",
       "Showy               1394\n",
       "Flowering Months    2059\n",
       "Height (feet)       2902\n",
       "Sun Exposure        2830\n",
       "Soil Moisture       2987\n",
       "dtype: int64"
      ]
     },
     "execution_count": 8,
     "metadata": {},
     "output_type": "execute_result"
    }
   ],
   "source": [
    "era_reduced.isna().sum()"
   ]
  },
  {
   "cell_type": "code",
   "execution_count": 9,
   "id": "86f09c54",
   "metadata": {},
   "outputs": [
    {
     "name": "stdout",
     "output_type": "stream",
     "text": [
      "                Flower Color Showy Flowering Months Height (feet)  \\\n",
      "Scientific Name                                                     \n",
      "Abies amabilis        Yellow    No          May–Jun           165   \n",
      "Abies balsamea        Yellow    No          Jun–Aug            60   \n",
      "Abies bracteata          NaN    No              NaN           NaN   \n",
      "Abies concolor           Red    No          May–Jun           120   \n",
      "Abies fraseri         Purple    No          Apr–May            55   \n",
      "\n",
      "                           Sun Exposure Soil Moisture  \n",
      "Scientific Name                                        \n",
      "Abies amabilis   Sun, Part Shade, Shade           Dry  \n",
      "Abies balsamea   Sun, Part Shade, Shade    Wet, Moist  \n",
      "Abies bracteata                     NaN           NaN  \n",
      "Abies concolor          Sun, Part Shade    Moist, Dry  \n",
      "Abies fraseri    Sun, Part Shade, Shade    Moist, Dry  \n"
     ]
    }
   ],
   "source": [
    "print(era_reduced.head())"
   ]
  },
  {
   "cell_type": "code",
   "execution_count": 12,
   "id": "75adf4f9",
   "metadata": {},
   "outputs": [],
   "source": [
    "source_dict = era_reduced.to_dict()"
   ]
  },
  {
   "cell_type": "code",
   "execution_count": 15,
   "id": "a5bab1fd",
   "metadata": {},
   "outputs": [
    {
     "name": "stdout",
     "output_type": "stream",
     "text": [
      "Flower Color        1828\n",
      "Showy               1394\n",
      "Flowering Months    1080\n",
      "Height (feet)       1523\n",
      "Sun Exposure        1489\n",
      "Soil Moisture       1572\n",
      "dtype: int64\n"
     ]
    }
   ],
   "source": [
    "df = get_sheet_data(\"All_Scraped_Data_Cleaned_Full\",\"Wildflower\")\n",
    "df.set_index(\"index\",inplace=True)\n",
    "\n",
    "df_dict = df.to_dict()\n",
    "\n",
    "for col in df.columns:\n",
    "\n",
    "    for name in era_reduced.index:\n",
    "\n",
    "        if source_dict[col][name] is np.nan:\n",
    "            if (name in df.index) and (df_dict[col][name] is not np.nan):\n",
    "\n",
    "                source_dict[col][name] = df_dict[col][name]\n",
    "\n",
    "era_reduced_updated = pd.DataFrame(source_dict)\n",
    "\n",
    "for col in era_reduced_updated.columns:\n",
    "    era_reduced_updated[col] = era_reduced_updated[col].replace({\" – \",\"–\"})\n",
    "\n",
    "\n",
    "print(era_reduced_updated.isna().sum())\n"
   ]
  }
 ],
 "metadata": {
  "kernelspec": {
   "display_name": "Python 3 (ipykernel)",
   "language": "python",
   "name": "python3"
  },
  "language_info": {
   "codemirror_mode": {
    "name": "ipython",
    "version": 3
   },
   "file_extension": ".py",
   "mimetype": "text/x-python",
   "name": "python",
   "nbconvert_exporter": "python",
   "pygments_lexer": "ipython3",
   "version": "3.8.13"
  }
 },
 "nbformat": 4,
 "nbformat_minor": 5
}
